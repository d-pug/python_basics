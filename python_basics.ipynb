{
 "cells": [
  {
   "cell_type": "markdown",
   "id": "9ec3165c-1c07-4cc1-9c4c-4925106a8e4a",
   "metadata": {},
   "source": [
    "# Python Basics"
   ]
  },
  {
   "cell_type": "markdown",
   "id": "55f93d75-e6d4-4c14-8a5f-071348c6664e",
   "metadata": {},
   "source": [
    "I have primarily adapted the content presented here from a [Python Focus Group](https://github.com/vhaghani26/python_focus_group) I conducted to teach students during grad school. "
   ]
  },
  {
   "cell_type": "markdown",
   "id": "d15f853c-161c-49d5-92e8-63f5b0580c72",
   "metadata": {},
   "source": [
    "## The `print()` Function"
   ]
  },
  {
   "cell_type": "markdown",
   "id": "65d85471-6c7c-445a-943d-4912b88145e5",
   "metadata": {},
   "source": [
    "As you begin learning to code in Python, you'll want to check that your code is behaving as expected. One of the ways to do so is to print, well, basically everything. The `print()` function is one of the most widely used functions. Functions are a more complicated aspect of Python, so for now, you just need to know that a function looks something like this: `function()`, where the function name is outside of the parentheses, and the parentheses are there to take arguments. An argument is something you give a function as an input. In this case, our function is `print`, and our argument (input) is \"Hello, World!\". "
   ]
  },
  {
   "cell_type": "code",
   "execution_count": null,
   "id": "c08feb70-9e8a-4f32-a6fd-91ebd064e95d",
   "metadata": {},
   "outputs": [],
   "source": [
    "print(\"Hello, World!\")"
   ]
  },
  {
   "cell_type": "markdown",
   "id": "cd99c0b8-7fce-4202-8601-585f655145a6",
   "metadata": {},
   "source": [
    "Now, try printing your name! In my case, it would look like this:"
   ]
  },
  {
   "cell_type": "code",
   "execution_count": null,
   "id": "c6dca9e6-7407-4dd9-9117-092378cd16bc",
   "metadata": {},
   "outputs": [],
   "source": [
    "print(\"Viki\")"
   ]
  },
  {
   "cell_type": "markdown",
   "id": "89c74bab-1e25-4da2-b3c0-bdffe858519f",
   "metadata": {},
   "source": [
    "Note that `print(Viki)` does not work, as the absence of quotation marks interprets \"Viki\" as a variable (we will learn more about variables shortly). Try a few more commands on your own and see what you can do! Note that you can also use single quotations to print as long as the quotations marks flanking the statement are the same style (single vs. double).\n",
    "\n",
    "The `print()` function is essential for troubleshooting, as it allows you to check outputs and variables, data types, and even just allows you to print progress notes during script execution. In my opinion, the troubleshooting aspect is most helpful. As you write your scripts, you want to make sure the inputs and outputs are what you expect at every stage, so you can print them for verification."
   ]
  },
  {
   "cell_type": "markdown",
   "id": "6ee25d36-e77c-4bfc-babe-887ddbf1e1e2",
   "metadata": {},
   "source": [
    "## Comments in Python"
   ]
  },
  {
   "cell_type": "markdown",
   "id": "0807c0e6-095f-439e-a54a-c1d6e8a061c2",
   "metadata": {},
   "source": [
    "While this isn't strictly specific to Python, comments are useful for a number of reasons, but primarily because (1) it helps someone else read and understand what your code is doing and (2) it helps the future *you* understand the code you wrote. Organization is key when coding, so comments are a really easy way to facilitate this."
   ]
  },
  {
   "cell_type": "markdown",
   "id": "fe5457d0-328a-4a96-8ffe-f9084744190f",
   "metadata": {},
   "source": [
    "### Inline Comments"
   ]
  },
  {
   "cell_type": "markdown",
   "id": "8bc0eb78-9f40-422a-9804-35d88675d551",
   "metadata": {},
   "source": [
    "One type of comment you can write is an inline comment. This is a comment that occurs in the same line as code that is being run. To add a comment, we use the `#` symbol. Everything after the `#` is interpreted as a comment in Python, so it does not get read or executed. "
   ]
  },
  {
   "cell_type": "code",
   "execution_count": null,
   "id": "0918c1db-54c7-470f-b830-dc98d14dcd25",
   "metadata": {},
   "outputs": [],
   "source": [
    "print(\"Here is an example of an inline comment\") # Inline comment"
   ]
  },
  {
   "cell_type": "markdown",
   "id": "b0579246-5fc5-480d-8433-32ce9fc105c1",
   "metadata": {},
   "source": [
    "Notice that in our output, the comment does not get printed"
   ]
  },
  {
   "cell_type": "markdown",
   "id": "550f9add-d811-4524-a7af-8456f29029ae",
   "metadata": {},
   "source": [
    "### Single Line Comments"
   ]
  },
  {
   "cell_type": "markdown",
   "id": "3e161436-6d40-4244-99a3-30984150c6f4",
   "metadata": {},
   "source": [
    "While inline comments are helpful, I personally have a preference for single line comments. This acts almost like a header, saying something like:"
   ]
  },
  {
   "cell_type": "code",
   "execution_count": null,
   "id": "c125df64-949b-4df0-9cba-14115b022246",
   "metadata": {},
   "outputs": [],
   "source": [
    "# Print my name\n",
    "print(\"Viki\")"
   ]
  },
  {
   "cell_type": "markdown",
   "id": "4d2a1886-2dd1-4028-8879-0871cad84901",
   "metadata": {},
   "source": [
    "The output should now also print out your name. The reason I prefer single line comments is because it seems more organized. It keeps a nice separation between commentary and functional code, so you don't get overwhelmed looking at your code."
   ]
  },
  {
   "cell_type": "markdown",
   "id": "721647fb-f0b6-426d-b729-6776960bfd20",
   "metadata": {},
   "source": [
    "## Variables"
   ]
  },
  {
   "cell_type": "markdown",
   "id": "d9460836-0956-4295-8aed-16ab85bafbc6",
   "metadata": {},
   "source": [
    "When coding, you will likely generate and store lots of information. In order to store the information, we can assign it to a variable. There are a few things we need to know about variables in Python:\n",
    "\n",
    "* Python does not have a command for declaring a variable. The variable is created the moment you first assign a value to it using the assignment operator: `=`\n",
    "* You can assign any data type to a variable (we will talk more about data types later)\n",
    "* Variable names should not contain any spaces (spaces are usually replaced with underscores, which is the case with the variable: pet_names)\n",
    "* Variable names must begin with a letter or the underscore character (a variable name cannot star with a number)\n",
    "* Variable names can only contain alpha-numeric characters and underscores (A-z, 0-9, and _)\n",
    "* Variables are case-sensitive (a and A are different variables)\n",
    "\n",
    "Here, we will demonstrate some examples of legal and illegal variable names."
   ]
  },
  {
   "cell_type": "code",
   "execution_count": null,
   "id": "4c2ba503-0743-416e-ae07-5d6a8943df2e",
   "metadata": {},
   "outputs": [],
   "source": [
    "# Illegal variable names\n",
    "1animal = \"Snake\"\n",
    "an-animal = \"Dog\"\n",
    "an animal = \"Cat\""
   ]
  },
  {
   "cell_type": "markdown",
   "id": "0d57785a-59cd-4836-b98d-edef729c6d9d",
   "metadata": {},
   "source": [
    "Notice how we are using comments to tell ourselves more information about the code. After running the above code, you should get an invalid syntax error. Why? Because our variables are illegal! We cannot use that syntax for our variable names. Now, run the next section."
   ]
  },
  {
   "cell_type": "code",
   "execution_count": null,
   "id": "36ec7ee5-49f3-4e5b-8990-6a31edaa6d9a",
   "metadata": {},
   "outputs": [],
   "source": [
    "# Legal variable names\n",
    "ananimal = \"Budgie\"\n",
    "an_animal = \"Iguana\"\n",
    "_an_animal = \"Gecko\"\n",
    "anAnimal = \"Owl\"\n",
    "AnAnimal = \"Fish\"\n",
    "ANANIMAL = \"Bunny\"\n",
    "an_animal_1 = \"Guinea Pig\""
   ]
  },
  {
   "cell_type": "markdown",
   "id": "a9e687a7-8844-4e07-846b-ebd3cd120d3b",
   "metadata": {},
   "source": [
    "Now, you should not get an error. You might also be a little shocked to see that you also have no outputs. This is because we did not put anything in our code that gives us an output. Let's try calling and printing on of our variables:"
   ]
  },
  {
   "cell_type": "code",
   "execution_count": null,
   "id": "296da9bb-a701-48b3-9485-76f23a1dbef0",
   "metadata": {},
   "outputs": [],
   "source": [
    "# Legal variable names\n",
    "ananimal = \"Budgie\"\n",
    "an_animal = \"Iguana\"\n",
    "_an_animal = \"Gecko\"\n",
    "anAnimal = \"Owl\"\n",
    "AnAnimal = \"Fish\"\n",
    "ANANIMAL = \"Bunny\"\n",
    "an_animal_1 = \"Guinea Pig\"\n",
    "\n",
    "print(an_animal_1)"
   ]
  },
  {
   "cell_type": "markdown",
   "id": "90c35a6d-0eb9-483a-aad0-2884d650c0aa",
   "metadata": {},
   "source": [
    "You should see the output \"Guinea Pig.\" One thing that's great about variables is that they can be changed! Let's say you've decided you don't like \"Guinea Pigs\" as part of your list. Change it to another animal:"
   ]
  },
  {
   "cell_type": "code",
   "execution_count": null,
   "id": "5de16a6c-5847-49c2-bb0f-339618315f75",
   "metadata": {},
   "outputs": [],
   "source": [
    "an_animal_1 = \"Bear\"\n",
    "\n",
    "print(an_animal_1)"
   ]
  },
  {
   "cell_type": "markdown",
   "id": "9460270f-d16c-4f32-852c-c1f948c94fe8",
   "metadata": {},
   "source": [
    "Now your output should be \"Bear.\" "
   ]
  },
  {
   "cell_type": "markdown",
   "id": "f8e6a40c-9ced-426a-97a4-e5e197859429",
   "metadata": {},
   "source": [
    "Variables are fundamental in Python as they store data values that can be referenced and manipulated throughout your code. They enable you to create dynamic programs by allowing you to hold and update information, making your code more flexible and efficient. Whenever possible, assign information/data to a variable, ideally with an informative name, so people can easily read and understand your code. Using variables also allows you to easily reuse and edit code you have already written."
   ]
  },
  {
   "cell_type": "markdown",
   "id": "65cef39c-988b-4fcb-87f0-276c0d98be94",
   "metadata": {},
   "source": [
    "## Data Types"
   ]
  },
  {
   "cell_type": "markdown",
   "id": "8b71deea-f734-4877-bce6-27e5fd93adef",
   "metadata": {},
   "source": [
    "Each data type has various strengths, associated functions for manipulation, and purposes in code. Since this is supposed to be a short introduction, I just want to provide you with the right names for different data types and how they're presented so you can dive further on your own. "
   ]
  },
  {
   "cell_type": "markdown",
   "id": "e6aaeb5f-a958-4753-bb3c-3d10bbb1eaf5",
   "metadata": {},
   "source": [
    "### Strings"
   ]
  },
  {
   "cell_type": "markdown",
   "id": "97d149c7-7dfc-4ad6-b1dd-6bb9dd58035c",
   "metadata": {},
   "source": [
    "A string is a data type that is a sequence of characters. Even though it can contain numbers, the way a string is formatted tells Python to interpret those characters as characters rather than numbers. They enable people to handle inputs, format outputs, and work with textual data in a flexible manner. Often times, when you work with data frames, your data will be stored as a string. You can manipulate your data based on its contents and even manipulate the contents themselves. Strings are also used to represent file names and paths."
   ]
  },
  {
   "cell_type": "code",
   "execution_count": null,
   "id": "1b246a45-eaa6-4724-ab61-5c9a30a0237a",
   "metadata": {},
   "outputs": [],
   "source": [
    "# Examples of strings\n",
    "str1 = \"Hello world\"\n",
    "str2 = \"Spring is coming!\"\n",
    "str3 = \"My dog ate 3 slices of my pizza\"\n",
    "str4 = \"I can't believe my dog did that\"\n",
    "\n",
    "print(str3)"
   ]
  },
  {
   "cell_type": "markdown",
   "id": "be81a1ec-f9a3-47cb-9665-1ac5c9f4235e",
   "metadata": {},
   "source": [
    "Notice that we have an apostrophe, a number, and even an exclamation mark in the above statements. Because we follow string formatting (flanking the outside of our string with single or double quotes), Python knows that we are inputting characters inside and that it should interpret it as such. "
   ]
  },
  {
   "cell_type": "markdown",
   "id": "6e978aaf-ea1d-4e6d-bd3a-052c9c5c124f",
   "metadata": {},
   "source": [
    "Note that there is a `str()` function. We do not want to say anything like `str = x`, as this will override the `str()` function and give errors. For this reason, I add numbers or prefixes to my variables. I used numbers in the above example. If I only have one variable, I would do something like `my_str` instead. This helps prevent overriding functions while also still having informative variable names."
   ]
  },
  {
   "cell_type": "markdown",
   "id": "402f0b24-1ba1-49ab-ae04-134d25fc8390",
   "metadata": {},
   "source": [
    "### Numeric Types"
   ]
  },
  {
   "cell_type": "markdown",
   "id": "883326b2-ff50-4248-a0c2-3a7f1b9790e8",
   "metadata": {},
   "source": [
    "Numeric types are data types containing numbers (including whole numbers, decimals, fractions, and complex numbers). They provide the foundation for performing mathematical operations, statistical analysis, and data manipulation. Whether working with integers for counting and indexing or using floats for precise calculations and measurements, numeric types allow you to handle a wide range of numerical data effectively. In data frame operations, such as those performed with libraries like Pandas or Polars, numeric types are used for aggregating, filtering, and analyzing datasets."
   ]
  },
  {
   "cell_type": "markdown",
   "id": "1211ccab-ea51-423e-a888-7bcaf643adc8",
   "metadata": {},
   "source": [
    "#### Integers"
   ]
  },
  {
   "cell_type": "markdown",
   "id": "afd248f0-2430-4f93-a765-1a2bb21ae476",
   "metadata": {},
   "source": [
    "Just like we learn in math class, an integer is any whole number. We cannot have a decimal at all for Python integers, as even something like `1.0` is interpreted as a different data type. Let's take a look at some examples of integers:"
   ]
  },
  {
   "cell_type": "code",
   "execution_count": null,
   "id": "1a3a6650-60a8-42aa-86a0-22f60189409e",
   "metadata": {},
   "outputs": [],
   "source": [
    "# Integers\n",
    "int1 = 1\n",
    "int2 = 9\n",
    "int3 = 42\n",
    "int4 = 558\n",
    "int5 = 21543215\n",
    "\n",
    "print(int4)\n",
    "type(int4)"
   ]
  },
  {
   "cell_type": "markdown",
   "id": "62388af8-f694-4e42-927f-84ceccf874f7",
   "metadata": {},
   "source": [
    "Python language is very delicate. This is incredibly helpful in most cases, but it also means that you have strict guidelines to adhere to. For example, `21543215` and `21,543,215` are different data types. "
   ]
  },
  {
   "cell_type": "code",
   "execution_count": null,
   "id": "a047267c-3a47-4acb-9ab7-b7d3b35b3e07",
   "metadata": {},
   "outputs": [],
   "source": [
    "int5 = 21543215\n",
    "not_int = 21,543,215\n",
    "\n",
    "print(int5, type(int5))\n",
    "print(not_int, type(not_int))"
   ]
  },
  {
   "cell_type": "markdown",
   "id": "b30fe602-79c3-433a-af5f-2b42414e6289",
   "metadata": {},
   "source": [
    "Notice that when we add commas, it is now considered a tupple, which is a sequence and not a numeric type anymore. Therefore, if you want to use an integer or set a variable to some integer value, use ONLY numeric characters (0-9)."
   ]
  },
  {
   "cell_type": "markdown",
   "id": "0b807262-3821-40a4-ac93-afa65c9fd81e",
   "metadata": {},
   "source": [
    "#### Floats"
   ]
  },
  {
   "cell_type": "markdown",
   "id": "e0b6e240-9e0e-4fda-954e-c88e203488a3",
   "metadata": {},
   "source": [
    "Similar to an integer, a float is a numeric type. However, floats differ in that they allow us to use decimals and fractions, so we are not limited to using whole numbers when using floats."
   ]
  },
  {
   "cell_type": "code",
   "execution_count": null,
   "id": "9f364a9c-95a6-46bd-9434-cbe056f7c9d3",
   "metadata": {},
   "outputs": [],
   "source": [
    "# Floats\n",
    "float1 = 1.0\n",
    "float2 = 3.4\n",
    "float3 = 74.3\n",
    "float4 = 9.99999999999\n",
    "float5 = 1844384.85262\n",
    "float6 = 3/4\n",
    "float7 = 9/16\n",
    "\n",
    "print(float6)"
   ]
  },
  {
   "cell_type": "code",
   "execution_count": null,
   "id": "ead9d176-dbd5-4208-bc94-89479bd40367",
   "metadata": {},
   "outputs": [],
   "source": [
    "# View types\n",
    "print(float1)\n",
    "print(type(float1))"
   ]
  },
  {
   "cell_type": "code",
   "execution_count": null,
   "id": "8730e3d7-e756-46bf-86f1-5fdae1dc1886",
   "metadata": {},
   "outputs": [],
   "source": [
    "# View types\n",
    "print(float4)\n",
    "print(type(float4))"
   ]
  },
  {
   "cell_type": "markdown",
   "id": "055a6a29-3968-4d93-a0de-20d3c597ff7a",
   "metadata": {},
   "source": [
    "### Sequence Types"
   ]
  },
  {
   "cell_type": "markdown",
   "id": "60de6110-f50a-4911-97fe-8630fec3a49c",
   "metadata": {},
   "source": [
    "Sequence types represent collections of data where each item is accessible by its index. Sequence types are fundamental for storing and manipulating data presented in a specific order. There are multiple types of sequence types, including tupples, lists, ranges, bytearrays, etc. Here, I will be focusing on lists and ranges because these are more commonly used sequence types.\n",
    "\n",
    "Sequence types are extremely helpful in Python, as they provide a structured way to store and manipulate collections of data. Lists, for instance, allow for dynamic data management, so you can easily add, remove, or modify elements while maintaining order. This flexibility is essential for tasks like data analysis, where the ability to handle varying data types and structures is necessary. Ranges, on the other hand, facilitate efficient iteration and generation of sequences, making them particularly useful in loops and mathematical computations."
   ]
  },
  {
   "cell_type": "markdown",
   "id": "4e76157f-712c-40ad-8978-40d951fe3e3d",
   "metadata": {},
   "source": [
    "#### Lists"
   ]
  },
  {
   "cell_type": "markdown",
   "id": "f8e805ea-27d3-481e-b591-34e77c27aaa3",
   "metadata": {},
   "source": [
    "Lists are ordered sequences represented with square brackets. They can contain strings, floats, integers, other lists, and even other data types. You can even make a list of data frames. Let's look at some examples:"
   ]
  },
  {
   "cell_type": "code",
   "execution_count": null,
   "id": "e888fee6-f73a-4759-b346-b1aa33a64b19",
   "metadata": {},
   "outputs": [],
   "source": [
    "# Make an empty list\n",
    "first_list = []\n",
    "\n",
    "print(first_list)"
   ]
  },
  {
   "cell_type": "code",
   "execution_count": null,
   "id": "5f246f2e-dc74-40d7-b7ee-0963859a7b76",
   "metadata": {},
   "outputs": [],
   "source": [
    "# Make a list\n",
    "list1 = [\"Viki\", \"Shawn\", \"Sophia\", \"David\"]\n",
    "print(list1)\n",
    "\n",
    "# Include multiple data types in a list\n",
    "list2 = [\"Lamp\", 3, 7.2, True, (1, 2, 3)]\n",
    "print(list2)"
   ]
  },
  {
   "cell_type": "markdown",
   "id": "495d3580-bfbb-45a6-baa5-9382c16bd532",
   "metadata": {},
   "source": [
    "As mentioned earlier, the elements in a list use a specific order (index). To access indexed components, you use the number corresponding to the order the data is presented in. It is important to note that Python is 0-based, so to access the first element, we can use the index 0."
   ]
  },
  {
   "cell_type": "code",
   "execution_count": null,
   "id": "8d6ea175-5cc5-4e08-9bf7-1d24b8a4f40e",
   "metadata": {},
   "outputs": [],
   "source": [
    "# Index a list\n",
    "print(list2[0])\n",
    "print(list2[0][0])\n",
    "print(list2[-1])\n",
    "print(list2[-1][1])\n",
    "print(list2[4][1])"
   ]
  },
  {
   "cell_type": "markdown",
   "id": "7ac57dea-9bec-4f35-92fa-427d0e4c54ab",
   "metadata": {},
   "source": [
    "Lists are dynamic, meaning you can add, remove, or change items if needed:"
   ]
  },
  {
   "cell_type": "code",
   "execution_count": null,
   "id": "5b050297-8d27-4147-bc2a-137cc4c82477",
   "metadata": {},
   "outputs": [],
   "source": [
    "# Appending to a list\n",
    "my_fav_artists = [\"Michael Jackson\", \"Metallica\", \"Guns N Roses\"]\n",
    "my_fav_artists.append(\"Billy Idol\")\n",
    "print(my_fav_artists)"
   ]
  },
  {
   "cell_type": "code",
   "execution_count": null,
   "id": "7e661b6c-b3ec-4307-9a63-31570e0664fe",
   "metadata": {},
   "outputs": [],
   "source": [
    "# Delete element\n",
    "del(my_fav_artists[0])\n",
    "print(my_fav_artists)"
   ]
  },
  {
   "cell_type": "code",
   "execution_count": null,
   "id": "4cbfdcb0-1d65-4e4e-b2e3-68137f080efb",
   "metadata": {},
   "outputs": [],
   "source": [
    "# Change list element\n",
    "my_fav_artists[0] = \"Billy Joel\"\n",
    "print(my_fav_artists)"
   ]
  },
  {
   "cell_type": "markdown",
   "id": "2ca06ff2-2f40-4719-bcd8-3971c041c9d9",
   "metadata": {},
   "source": [
    "#### Ranges"
   ]
  },
  {
   "cell_type": "markdown",
   "id": "20b52fba-3306-4914-a41a-2cfb47bc9cb2",
   "metadata": {},
   "source": [
    "The `range()` function returns a sequence of numbers."
   ]
  },
  {
   "cell_type": "code",
   "execution_count": null,
   "id": "106f3e4c-0027-477e-9769-b546342c2ccc",
   "metadata": {},
   "outputs": [],
   "source": [
    "# Turn our range into a list\n",
    "numbers = list(range(1,6))\n",
    "print(numbers)"
   ]
  },
  {
   "cell_type": "markdown",
   "id": "6a39d3ca-5d3c-4e41-bc61-bde4f48688d5",
   "metadata": {},
   "source": [
    "Let's take a look at our output more closely. Notice that our list starts with \"1\" and ends with \"5.\" This is the same behavior we notice with indexing; our last digit has an off-by-one behavior. This means we have to add one to the last digit to get the range we want. For example, if we want the numbers 1-20 in a list, we have to use the following:"
   ]
  },
  {
   "cell_type": "code",
   "execution_count": null,
   "id": "f91c6df9-d4b7-4f7d-8dfc-bd433b2d5b41",
   "metadata": {},
   "outputs": [],
   "source": [
    "# Turn our range into a list containing numbers 1-20\n",
    "range1_20 = list(range(1,21))\n",
    "print(range1_20)"
   ]
  },
  {
   "cell_type": "markdown",
   "id": "ba74f84f-d591-4e12-864a-481f088379d3",
   "metadata": {},
   "source": [
    "We can also tell Python to skip numbers in a given range. The notation is `(first number in range, last number in range + 1, every Xth value you want)`. Now let's put this in action. Let's try to view all even numbers in the range 1 through 10."
   ]
  },
  {
   "cell_type": "code",
   "execution_count": null,
   "id": "cc63d62d-ea37-4e26-b6b3-440c8487a9f7",
   "metadata": {},
   "outputs": [],
   "source": [
    "# Even numbers from 1-10\n",
    "even_numbers=list(range(2,11,2))\n",
    "print(even_numbers)"
   ]
  },
  {
   "cell_type": "markdown",
   "id": "df15ac13-e121-4d3b-aad0-7ceaf08b3e74",
   "metadata": {},
   "source": [
    "If we look more closely at the information in the range function, we see that we start at 2. Why not 1? This is because adding a value to skip other values accounts for the first value already. This command is basically us saying \"Starting at 2 and ending at 11, skip every 2nd number.\" In this case, beginning our range with 1 means that our second element, 2, would be skipped instead."
   ]
  },
  {
   "cell_type": "markdown",
   "id": "973e59ae-3d21-43e2-89bd-651ee51e60a9",
   "metadata": {},
   "source": [
    "### Mapping Types (Dictionaries)"
   ]
  },
  {
   "cell_type": "markdown",
   "id": "0be55b71-b166-4e6e-998a-a989e977b9c8",
   "metadata": {},
   "source": [
    "Mapping types are data types used to associate keys and values. Dictionaries are the only built-in mapping type, but others can be found in the `collections` module, such as `deafultdict`, `OrderedDict`, `Counter`, etc.\n",
    "\n",
    "Dictionaries are a type of collection in Python. It has keys and values, where a key is analogous to the index. To create a dictionary, we use curly brackets: `{}`. The keys have to be immutable and unique (since they act as an index), but the values can be immutable, mutable, and duplicates. Each key and value pair is separated by a comma. One of the strengths of dictionaries is that they are known to be really efficient for data storage and manipulation. If you're working with a lot of data at once and need something to run quickly, a dictionary is a good way to go Let's make a dictionary!"
   ]
  },
  {
   "cell_type": "code",
   "execution_count": null,
   "id": "2600d573-e90b-4c8e-aa64-f1cfbd913890",
   "metadata": {},
   "outputs": [],
   "source": [
    "# Dictionary notation\n",
    "a_dictionary = {}\n",
    "print(a_dictionary)\n",
    "type(a_dictionary)"
   ]
  },
  {
   "cell_type": "code",
   "execution_count": null,
   "id": "fa67c380-38de-453d-9b36-676e6ac63146",
   "metadata": {},
   "outputs": [],
   "source": [
    "# Make our first dictionary\n",
    "dict1 = {'a':0, 'b':1, 'c':2}\n",
    "print(dict1)"
   ]
  },
  {
   "cell_type": "markdown",
   "id": "fe504810-932b-445e-b3da-2ed2793f50a2",
   "metadata": {},
   "source": [
    "You can use several data types as the values in a dictionary."
   ]
  },
  {
   "cell_type": "code",
   "execution_count": null,
   "id": "d436edcc-5d3c-4be7-bbc3-00db45b2b1b1",
   "metadata": {},
   "outputs": [],
   "source": [
    "# Mix data types in a dictionary\n",
    "dict2 = {\"my_string\":\"Coffee\", \"my_int\": 8, \"my_float\":9.2, \"my_list\":[1, 2, 3, 4, 5]}\n",
    "print(dict2)\n",
    "\n",
    "# Iterate through dictionary\n",
    "for key, value in dict2.items():\n",
    "    if isinstance(value, list):\n",
    "        print(value[-1])"
   ]
  },
  {
   "cell_type": "markdown",
   "id": "12a115f6-9c97-4ee1-ad37-95e49484d8fb",
   "metadata": {},
   "source": [
    "We can search for values in a dictionary like we would use indexing."
   ]
  },
  {
   "cell_type": "code",
   "execution_count": null,
   "id": "089e09fc-c3c9-4213-8897-5e78f0c42830",
   "metadata": {},
   "outputs": [],
   "source": [
    "# Find values in a dictionary\n",
    "dict3 = {\n",
    "  \"brand\": \"Honda\",\n",
    "  \"model\": \"Civic\",\n",
    "  \"year\": 2020\n",
    "}\n",
    "print(dict3[\"model\"])"
   ]
  },
  {
   "cell_type": "markdown",
   "id": "61b654d0-8ed4-42e5-b944-2b52fc0de4cd",
   "metadata": {},
   "source": [
    "We can add new entries using the assignment operator `=`."
   ]
  },
  {
   "cell_type": "code",
   "execution_count": null,
   "id": "7db692bb-bcce-4b70-8638-b4c9d051a2ab",
   "metadata": {},
   "outputs": [],
   "source": [
    "# Add new value dictionary entry\n",
    "dict3[\"owner\"] = \"Sadie\"\n",
    "print(dict3)"
   ]
  },
  {
   "cell_type": "markdown",
   "id": "d917227e-ca9a-45ce-b499-b5f0e54497fe",
   "metadata": {},
   "source": [
    "We can also delete entries."
   ]
  },
  {
   "cell_type": "code",
   "execution_count": null,
   "id": "0e8ec464-d734-49ae-a7ad-571544e0e5ef",
   "metadata": {},
   "outputs": [],
   "source": [
    "# Delete dictionary entry\n",
    "del(dict3[\"owner\"])\n",
    "print(dict3)"
   ]
  },
  {
   "cell_type": "markdown",
   "id": "fed85074-f002-411c-af28-9a31fd3cc86a",
   "metadata": {},
   "source": [
    "### Booleans"
   ]
  },
  {
   "cell_type": "markdown",
   "id": "99216287-fc01-43ba-89be-a247b3157bf8",
   "metadata": {},
   "source": [
    "While Boolean values are usually not directly coded for, they are extremely helpful since any logical operator or statement ends up being a Boolean output. Booleans are most heavily associated with conditionals (i.e. `if` statements). A Boolean value can take two on two values: True or False. "
   ]
  },
  {
   "cell_type": "code",
   "execution_count": null,
   "id": "b9562608-31b5-4c2e-89d5-df99e3a3ccaa",
   "metadata": {},
   "outputs": [],
   "source": [
    "bool1 = type(True)\n",
    "print(bool1)"
   ]
  },
  {
   "cell_type": "markdown",
   "id": "f6d4a280-4b78-44c2-a16a-8c6370c68831",
   "metadata": {},
   "source": [
    "We can also use numerics to represent a Boolean value, where 1 represents True and 0 represents False:"
   ]
  },
  {
   "cell_type": "code",
   "execution_count": null,
   "id": "23b142b0-c3d6-41bc-b0e3-a1c2ceb3df53",
   "metadata": {},
   "outputs": [],
   "source": [
    "# Demonstrate Boolean as integer\n",
    "bool2 = int(True)\n",
    "print(bool2)\n",
    "bool3 = int(False)\n",
    "print(bool3)"
   ]
  },
  {
   "cell_type": "markdown",
   "id": "9f15e809-6e93-4d8f-a49a-7a8d17e35ab0",
   "metadata": {},
   "source": [
    "## Comparison and Logic Operators"
   ]
  },
  {
   "cell_type": "markdown",
   "id": "89ab8440-57a7-426d-8c16-aa26b05830c4",
   "metadata": {},
   "source": [
    "Comparison and logic operators allow you to evaluate conditions and make decisions based on the results, facilitating control over your script and associated data handling. By allowing for the combination of multiple conditions, these operators allow for the creation of complex and dynamic logical expressions, which is essential when you create a script that can have multiple different types of inputs."
   ]
  },
  {
   "cell_type": "markdown",
   "id": "4c074879-4a1e-4f61-a338-ecb0b76676fa",
   "metadata": {},
   "source": [
    "### Comparison Operators"
   ]
  },
  {
   "cell_type": "markdown",
   "id": "0445cfd0-18b1-476b-8bcc-afff73457fb4",
   "metadata": {},
   "source": [
    "Comparison operators compare some value or operand, then, based on some condition, produce a Boolean.\n",
    "\n",
    "We can use the equality operator, `==` to determine if values are equal."
   ]
  },
  {
   "cell_type": "code",
   "execution_count": null,
   "id": "5793eddc-ce70-476f-b4b3-54e37ad0e8f0",
   "metadata": {},
   "outputs": [],
   "source": [
    "# Variables\n",
    "a = 5\n",
    "b = 10\n",
    "c = 5\n",
    "\n",
    "# Determine if values are equal\n",
    "IsEqual = a == b\n",
    "print(IsEqual)"
   ]
  },
  {
   "cell_type": "markdown",
   "id": "f0522dc1-c5b9-4def-9797-291ff7c816c2",
   "metadata": {},
   "source": [
    "Let's compare the magnitude of the values."
   ]
  },
  {
   "cell_type": "code",
   "execution_count": null,
   "id": "8a1eb85c-4324-47a3-b0d8-f1f69bb111b2",
   "metadata": {},
   "outputs": [],
   "source": [
    "# Check if a value is greater than another\n",
    "IsGreater = a > b\n",
    "print(IsGreater)"
   ]
  },
  {
   "cell_type": "code",
   "execution_count": null,
   "id": "a0877848-f051-4251-a5ba-3c9625c24d38",
   "metadata": {},
   "outputs": [],
   "source": [
    "# Check if a value is less than another\n",
    "IsLess = a < b\n",
    "print(IsLess)"
   ]
  },
  {
   "cell_type": "code",
   "execution_count": null,
   "id": "f23a2e20-2f91-461f-ac22-d4ae5df72e1c",
   "metadata": {},
   "outputs": [],
   "source": [
    "# Check if a value is less than or equal to another\n",
    "IsLessOrEqual = a <= c\n",
    "print(IsLessOrEqual)"
   ]
  },
  {
   "cell_type": "code",
   "execution_count": null,
   "id": "fdf94421-0fc8-41a9-ae5c-7bc36894d942",
   "metadata": {},
   "outputs": [],
   "source": [
    "# Check if a value is greater than or equal to another\n",
    "IsGreaterOrEqual = b >= c\n",
    "print(IsGreaterOrEqual)"
   ]
  },
  {
   "cell_type": "markdown",
   "id": "e0807c7b-39c9-4a23-8c6c-084dbe175a5b",
   "metadata": {},
   "source": [
    "Testing for equality is easy, but now how do we test for inequality using operators? In Python, we can use the inequality operator: `!=`."
   ]
  },
  {
   "cell_type": "code",
   "execution_count": null,
   "id": "161c5daf-0465-4c78-ac09-73cceec7e3ff",
   "metadata": {},
   "outputs": [],
   "source": [
    "# See if values are not equal\n",
    "IsNotEqual1 = a != b\n",
    "print(IsNotEqual1)"
   ]
  },
  {
   "cell_type": "code",
   "execution_count": null,
   "id": "1dc599f2-72d9-4ce7-b902-8eb4b770afa4",
   "metadata": {},
   "outputs": [],
   "source": [
    "IsNotEqual2 = a != c\n",
    "print(IsNotEqual2)"
   ]
  },
  {
   "cell_type": "markdown",
   "id": "c468f84b-79dc-4439-a81f-bfd937bca041",
   "metadata": {},
   "source": [
    "### Logic Operators"
   ]
  },
  {
   "cell_type": "markdown",
   "id": "e9f58a5e-2439-48d0-89fb-cc4ded475fa6",
   "metadata": {},
   "source": [
    "Logic operators take Boolean values and produce different Boolean values. The \"not,\" \"or,\" and \"and\" operator takes in two values to produce a new Boolean value. You can use \"if, and\" and \"if, or\" statements. The \"and\" statement is only True when both conditions are true. The \"or\" statement is true if one condition is True. The \"not\" statement outputs the opposite true value. This is essentially what we see in a [truth table](https://docs.oracle.com/html/E79061_01/Content/Reference/Truth_tables.htm). Let's take a look at these."
   ]
  },
  {
   "cell_type": "code",
   "execution_count": null,
   "id": "d868f790-a00f-4eb0-955a-c95b5fde822b",
   "metadata": {},
   "outputs": [],
   "source": [
    "# Basic logic operators\n",
    "print(not(True))\n",
    "print(not(False))"
   ]
  },
  {
   "cell_type": "markdown",
   "id": "86ee89fc-dccd-4d73-b172-d601f77ed1ab",
   "metadata": {},
   "source": [
    "The following example uses a conditional (if statement), which we will dive into later. I will keep it basic here, but wanted to demonstrate the logic used."
   ]
  },
  {
   "cell_type": "code",
   "execution_count": null,
   "id": "2db0d661-25e8-43dd-8644-03ddae81d545",
   "metadata": {},
   "outputs": [],
   "source": [
    "# Using logic operators in a basic conditional\n",
    "album_year = 1983\n",
    "if album_year > 1979 and album_year < 1990:\n",
    "\tprint(\"This album was made in the 80’s\")"
   ]
  },
  {
   "cell_type": "markdown",
   "id": "7c799afa-f7e3-4230-afce-a777a54b72c2",
   "metadata": {},
   "source": [
    "## Loops"
   ]
  },
  {
   "cell_type": "markdown",
   "id": "b4303b01-9755-49e0-9257-00c83d4bb513",
   "metadata": {},
   "source": [
    "### For-Loops"
   ]
  },
  {
   "cell_type": "markdown",
   "id": "c6b0b6cb-425d-42f1-947e-78927b8a2e7e",
   "metadata": {},
   "source": [
    "We can perform an action on every component of various data types (e.g. lists, dictionaries, tuples, sets, strings) using a for-loop function. The concept can be thought of as \"for every item, do this action.\" This is called iteration. It allows you to carry out many actions at once instead of doing it individually for objects, variables, or data. It is one of the most widely and commonly used tools in Python. Regarding syntax, after the initial \"for\" statement, every indented line following the for/in command is considered inside the loop, and each indented line is executed once for each value in the list. While this may sound a little complicated, it is far easier understood in practice. "
   ]
  },
  {
   "cell_type": "code",
   "execution_count": null,
   "id": "02694715-e197-439f-9243-7ba74087b3a4",
   "metadata": {},
   "outputs": [],
   "source": [
    "# Make a list\n",
    "magicians = [\"alice\", \"david\", \"carolina\"]\n",
    "\n",
    "# Printing the list to see the magicians\n",
    "print(magicians)"
   ]
  },
  {
   "cell_type": "code",
   "execution_count": null,
   "id": "13c4e421-8bc8-4437-b32b-57c129e33221",
   "metadata": {},
   "outputs": [],
   "source": [
    "# Printing each magician individually\n",
    "for magician in magicians:\n",
    "\tprint(magician)"
   ]
  },
  {
   "cell_type": "markdown",
   "id": "ffbfc8a0-7254-4483-bae3-7a3509d1ac5c",
   "metadata": {},
   "source": [
    "Notice how the outputs are different. This is because the for loop carried out the print function for each element in the list rather than printing the whole list. Let's try another for-loop!"
   ]
  },
  {
   "cell_type": "code",
   "execution_count": null,
   "id": "5eeb633f-d0d9-4cc0-b51a-934e5452a6bc",
   "metadata": {},
   "outputs": [],
   "source": [
    "# Carry out more complicated actions\n",
    "for magician in magicians:\n",
    "\tprint(magician.title() + \", that was a great trick!\")\n",
    "\tprint(\"I can’t wait to see your next trick, \" + magician.title() + \".\\n\")"
   ]
  },
  {
   "cell_type": "markdown",
   "id": "56491cb2-4ad3-4b62-a03f-78b6ca064921",
   "metadata": {},
   "source": [
    "If we want to do something after a for-loop, write the code without an indentation. You can also include a line break if you prefer to keep the code cleaner."
   ]
  },
  {
   "cell_type": "code",
   "execution_count": null,
   "id": "0a62dc69-0295-4435-a62c-2fad398bee80",
   "metadata": {},
   "outputs": [],
   "source": [
    "# Carry out more complicated actions\n",
    "for magician in magicians:\n",
    "\tprint(magician.title() + \", that was a great trick!\")\n",
    "\tprint(\"I can’t wait to see your next trick, \" + magician.title() + \".\\n\")\n",
    "\t\n",
    "print(\"Thank you, everyone. That was a great magic show!\")"
   ]
  },
  {
   "cell_type": "markdown",
   "id": "06c296e1-8003-4399-9506-ebf3ba68f8a4",
   "metadata": {},
   "source": [
    "Here are some more examples of basic for-loops. Including how you can implement the `range()` function."
   ]
  },
  {
   "cell_type": "code",
   "execution_count": null,
   "id": "030e7e70-eb57-4673-8efd-dba8f78a1ed4",
   "metadata": {},
   "outputs": [],
   "source": [
    "# More basic for-loops\n",
    "A = [1, 2, 3, 4, 5]\n",
    "for value in A:\n",
    "    print(value)"
   ]
  },
  {
   "cell_type": "code",
   "execution_count": null,
   "id": "37b8f4fe-7241-4c37-bd62-ca1755b495f5",
   "metadata": {},
   "outputs": [],
   "source": [
    "dates = [1982, 1980, 1973]\n",
    "for date in dates:\n",
    "    print(date)"
   ]
  },
  {
   "cell_type": "code",
   "execution_count": null,
   "id": "fe338c4f-f7cf-4a96-b90b-7a81c73f9a8b",
   "metadata": {},
   "outputs": [],
   "source": [
    "# A more complicated for-loop where you can access the index and list items\n",
    "x = len(dates)\n",
    "for i in range(x):\n",
    "    print(i, dates[i]) "
   ]
  },
  {
   "cell_type": "code",
   "execution_count": null,
   "id": "d61d6550-f557-43a6-9cc6-c89e6381d6e8",
   "metadata": {},
   "outputs": [],
   "source": [
    "# The range() function\n",
    "squares = []\n",
    "for value in range(1,11):\n",
    "\tsquare = value**2\n",
    "\tsquares.append(square)\n",
    "print(squares)"
   ]
  },
  {
   "cell_type": "markdown",
   "id": "67d9ae4c-53a6-4f6d-9492-4d53126c6d99",
   "metadata": {},
   "source": [
    "### While-Loops"
   ]
  },
  {
   "cell_type": "markdown",
   "id": "72c9ae6e-e396-4413-8c8d-2e501f813a94",
   "metadata": {},
   "source": [
    "While-loops are similar to for-loops, but instead of executing a statement a set number of times, a while loop will only run if a condition is met. This is especially helpful if you want to iterate a certain number of times."
   ]
  },
  {
   "cell_type": "code",
   "execution_count": null,
   "id": "27753a16-c118-4c71-a189-a2bc7be83621",
   "metadata": {},
   "outputs": [],
   "source": [
    "# Basic while-loop with 10 iterations\n",
    "i = 0\n",
    "while i < 10:\n",
    "\tprint(i)\n",
    "\ti += 1"
   ]
  },
  {
   "cell_type": "code",
   "execution_count": null,
   "id": "20a24f85-6fa7-4846-98c5-7f9e826dbf7b",
   "metadata": {},
   "outputs": [],
   "source": [
    "# A while-loop with two variables\n",
    "x = 11\n",
    "y = 1\n",
    "while y < x:\n",
    "\tprint(y)\n",
    "\ty += 1"
   ]
  },
  {
   "cell_type": "markdown",
   "id": "4af6008f-d19e-4fec-a305-ed765e3a947a",
   "metadata": {},
   "source": [
    "Be careful with while-loops, however, as it is easy to get stuck in one. Below is an example of a never ending while-loop."
   ]
  },
  {
   "cell_type": "code",
   "execution_count": null,
   "id": "2d73f741-9dcc-4284-a7c0-7b087903b599",
   "metadata": {},
   "outputs": [],
   "source": [
    "# Broken while-loop\n",
    "i = 0\n",
    "while i < 10:\n",
    "\tprint(i)"
   ]
  },
  {
   "cell_type": "markdown",
   "id": "4210df74-c7c3-4a31-b152-c5f94e721412",
   "metadata": {},
   "source": [
    "Here are some examples:"
   ]
  },
  {
   "cell_type": "code",
   "execution_count": null,
   "id": "eabd049b-ffa9-45c5-8e3d-ae8f63c1d8cd",
   "metadata": {},
   "outputs": [],
   "source": [
    "# More complicated while-loop\n",
    "dates = [1982, 1980, 1973, 2000]\n",
    "i = 0\n",
    "year = 0\n",
    "while year != 1973:\n",
    "    year = dates[i]\n",
    "    i = i + 1\n",
    "    print(year)\n",
    "print(\"It took \", i ,\"repetitions to get out of loop.\")"
   ]
  },
  {
   "cell_type": "code",
   "execution_count": null,
   "id": "0607fe4e-4460-4b9e-aa99-b04e7a5931ac",
   "metadata": {},
   "outputs": [],
   "source": [
    "# Another complicated while-loop\n",
    "PlayListRatings = [10, 9.5, 10, 8, 7.5, 5, 10, 10]\n",
    "i = 1\n",
    "Rating = PlayListRatings[0]\n",
    "while Rating >= 6:\n",
    "    print(Rating)\n",
    "    Rating = PlayListRatings[i]\n",
    "    i += 1"
   ]
  },
  {
   "cell_type": "code",
   "execution_count": null,
   "id": "e6fce9dd-e930-4e9b-95ba-97924df83fba",
   "metadata": {},
   "outputs": [],
   "source": [
    "# One last while-loop for reference\n",
    "squares = ['orange', 'orange', 'purple', 'blue ', 'orange']\n",
    "new_squares = []\n",
    "i = 0\n",
    "while squares[i] == 'orange':\n",
    "    new_squares.append(squares[i])\n",
    "    i += 1\n",
    "print(new_squares)"
   ]
  },
  {
   "cell_type": "markdown",
   "id": "a1cde352-3611-4c81-9ba0-6e9416f335b8",
   "metadata": {},
   "source": [
    "## Conditionals"
   ]
  },
  {
   "cell_type": "markdown",
   "id": "b4213387-3e94-44c0-860e-74e1ea437344",
   "metadata": {},
   "source": [
    "What exactly is a conditional? Well, a conditional is when you want to carry out a certain set of actions only if something (data in this case) meets a certain condition. For example, if the weather is sunny out, then I will wear shorts. Otherwise, I will wear long pants. \n",
    "\n",
    "Now what about data? In many situations, our data is dynamic and we want to carry out different operations given a set of conditions. Additionally, you can define conditions based on nearly all data types. Let's dive in and see what we can do with conditionals!\n",
    "\n",
    "Imagine you are at a club that requires you to be 18 years old to enter. Let's simulate this scenario in code. Try running the following in your script and let's see the output."
   ]
  },
  {
   "cell_type": "code",
   "execution_count": null,
   "id": "99c5eb27-d88e-42e7-b7e6-32b0e5ddcf55",
   "metadata": {},
   "outputs": [],
   "source": [
    "age = 19\n",
    "\n",
    "if age >= 18:\n",
    "    print(\"You may enter!\")\n",
    "else:\n",
    "    print(\"You are too young to enter.\")"
   ]
  },
  {
   "cell_type": "markdown",
   "id": "3077c425-a657-4ee1-bd69-65574f5477c7",
   "metadata": {},
   "source": [
    "Upon running it, we see that since the age is 19, we may enter! What if our age is not 19? Let's change the age to 16 and run it again. You should now see a different response. This is the power of the conditional - different code is executed based on what condition gets met."
   ]
  },
  {
   "cell_type": "code",
   "execution_count": null,
   "id": "01537d65-441a-44b3-83aa-5183f313ec50",
   "metadata": {},
   "outputs": [],
   "source": [
    "age = 16\n",
    "\n",
    "if age >= 18:\n",
    "    print(\"You may enter!\")\n",
    "else:\n",
    "    print(\"You are too young to enter.\")"
   ]
  },
  {
   "cell_type": "markdown",
   "id": "d3f54b05-6ebd-4412-ad39-042c728d4e9a",
   "metadata": {},
   "source": [
    "Generally speaking, conditionals have the following structure:\n",
    "\n",
    "```\n",
    "if {some condition}:\n",
    "    {code to execute}\n",
    "else:\n",
    "    {alternative code to execute if the condition is not met}\n",
    "```\n",
    "\n",
    "Aside from simply carrying out code, you can also use the variable in the code:"
   ]
  },
  {
   "cell_type": "code",
   "execution_count": null,
   "id": "1a299078-f201-4066-a3c6-84d3346c55d9",
   "metadata": {},
   "outputs": [],
   "source": [
    "age = 14\n",
    "\n",
    "print(\"Dad: Happy birthday! How old are you turning this year?\")\n",
    "print(f\"Son: Thank you. I’m turning {age} this year\")\n",
    "\n",
    "if age >= 16:\n",
    "\tprint(\"Dad: Good, now go get a job\")\n",
    "else:\n",
    "\tprint(f\"Dad: Wow, only {16-age} more years until you can get a job\")"
   ]
  },
  {
   "cell_type": "markdown",
   "id": "0c2c23c8-37cf-4b68-9aa8-f03755b9df00",
   "metadata": {},
   "source": [
    "There may be times when you have more than two possible paths to execute depending on the data. In this case, you can add an `elif` statement. `elif` stands for \"else if,\" essentially meaning \"if it doesn't match the first condition, see if it matches this one.\" It makes more sense in action, so let's take a look. Below, we will check to see the status of `x` in relation to `y`."
   ]
  },
  {
   "cell_type": "code",
   "execution_count": null,
   "id": "5a262fca-61ca-4155-8b82-57ea6da1cda8",
   "metadata": {},
   "outputs": [],
   "source": [
    "x = 5\n",
    "y = 10\n",
    "\n",
    "if x > y:\n",
    "    print(\"x is greater than y\")\n",
    "elif x < y:\n",
    "    print(\"x is less than y\")\n",
    "else:\n",
    "    print(\"x is equal to y\")"
   ]
  },
  {
   "cell_type": "markdown",
   "id": "50725af6-125e-431d-9456-cacc7fe468ec",
   "metadata": {},
   "source": [
    "Change the values of `x` and `y` and see how the outputs change."
   ]
  }
 ],
 "metadata": {
  "kernelspec": {
   "display_name": "Python 3 (ipykernel)",
   "language": "python",
   "name": "python3"
  },
  "language_info": {
   "codemirror_mode": {
    "name": "ipython",
    "version": 3
   },
   "file_extension": ".py",
   "mimetype": "text/x-python",
   "name": "python",
   "nbconvert_exporter": "python",
   "pygments_lexer": "ipython3",
   "version": "3.12.2"
  }
 },
 "nbformat": 4,
 "nbformat_minor": 5
}
